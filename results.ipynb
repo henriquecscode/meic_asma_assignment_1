{
 "cells": [
  {
   "cell_type": "code",
   "execution_count": 1,
   "id": "5d81da7f",
   "metadata": {},
   "outputs": [],
   "source": [
    "import os"
   ]
  },
  {
   "cell_type": "code",
   "execution_count": 2,
   "id": "24aa6580",
   "metadata": {},
   "outputs": [],
   "source": [
    "data_folder = \"./execution/\""
   ]
  },
  {
   "cell_type": "code",
   "execution_count": 3,
   "id": "d515f807",
   "metadata": {},
   "outputs": [],
   "source": [
    "def get_client_reqs(execution_folder: str):\n",
    "    client_reqs = []\n",
    "    for filename in os.listdir(execution_folder):\n",
    "        for file in os.listdir(execution_folder + filename):\n",
    "            with open(execution_folder + filename + \"/\" + file) as f:\n",
    "                client_reqs.append(f.readline())\n",
    "    return client_reqs\n",
    "\n",
    "def parse_request_dispatch(request_dispatch: list):\n",
    "    return {\n",
    "        'start': request_dispatch[0],\n",
    "        'end': request_dispatch[1],\n",
    "        'companyName': request_dispatch[2],\n",
    "        'vehicleName': request_dispatch[3],\n",
    "        'vehicleCapacity': request_dispatch[4],\n",
    "        'vehicleFilledUpCargo': request_dispatch[5],\n",
    "        'cargoOccupancy': request_dispatch[6],\n",
    "        'loadedOn': request_dispatch[7],\n",
    "        'holdingTime': request_dispatch[8],\n",
    "        'dispatchedOn': request_dispatch[9],\n",
    "        'idleTime': request_dispatch[10],\n",
    "        'arrivedOn': request_dispatch[11],\n",
    "        'travelTime': request_dispatch[12],\n",
    "        'requestStage': request_dispatch[13]\n",
    "    }\n",
    "\n",
    "def parse_client_req(client_req: str):\n",
    "    tokens = client_req.split(\";\")\n",
    "    return {\n",
    "        'clientName': tokens[0],\n",
    "        'productName': tokens[1],\n",
    "        'productVolume': tokens[2],\n",
    "        'quantity': tokens[3],\n",
    "        'route': tokens[4].split(\",\"),\n",
    "        'requestDispatches': [parse_request_dispatch(t) for t in [t.split(\",\") for t in tokens[5].split(\":\")]],\n",
    "        'price': tokens[6],\n",
    "        'startedOn': tokens[7],\n",
    "        'finishedOn': tokens[8],\n",
    "        'requestTime': tokens[9],\n",
    "        'requestStage': tokens[10]\n",
    "    }\n",
    "\n",
    "def get_all_json(execution_folder: str):\n",
    "    client_reqs = get_client_reqs(data_folder)\n",
    "    return [parse_client_req(cr) for cr in client_reqs]"
   ]
  },
  {
   "cell_type": "code",
   "execution_count": 4,
   "id": "33ef77ee",
   "metadata": {
    "scrolled": false
   },
   "outputs": [],
   "source": [
    "js = get_all_json(data_folder)"
   ]
  },
  {
   "cell_type": "code",
   "execution_count": 5,
   "id": "d1e74f5d",
   "metadata": {},
   "outputs": [
    {
     "name": "stdout",
     "output_type": "stream",
     "text": [
      "{'clientName': 'Client00', 'productName': 'Controller', 'productVolume': '32', 'quantity': '1', 'route': ['1-3-5', '1-3', '1', '2', '2-3', '2-3-5'], 'requestDispatches': [{'start': '1-3-5', 'end': '1-3', 'companyName': 'Company01', 'vehicleName': 'Company1-Vehicle62', 'vehicleCapacity': '120', 'vehicleFilledUpCargo': '32', 'cargoOccupancy': '0', 'loadedOn': '12', 'holdingTime': '1', 'dispatchedOn': '12', 'idleTime': '0', 'arrivedOn': '13', 'travelTime': '1', 'requestStage': '0'}, {'start': '1-3', 'end': '1', 'companyName': 'Company05', 'vehicleName': 'Company5-Vehicle283', 'vehicleCapacity': '400', 'vehicleFilledUpCargo': '32', 'cargoOccupancy': '0', 'loadedOn': '13', 'holdingTime': '2', 'dispatchedOn': '13', 'idleTime': '0', 'arrivedOn': '14', 'travelTime': '1', 'requestStage': '1'}, {'start': '1', 'end': '2', 'companyName': 'Company00', 'vehicleName': 'Company0-Vehicle0', 'vehicleCapacity': '1000', 'vehicleFilledUpCargo': '32', 'cargoOccupancy': '0', 'loadedOn': '14', 'holdingTime': '3', 'dispatchedOn': '14', 'idleTime': '0', 'arrivedOn': '22', 'travelTime': '8', 'requestStage': '2'}, {'start': '2', 'end': '2-3', 'companyName': 'Company01', 'vehicleName': 'Company1-Vehicle61', 'vehicleCapacity': '400', 'vehicleFilledUpCargo': '32', 'cargoOccupancy': '0', 'loadedOn': '25', 'holdingTime': '14', 'dispatchedOn': '25', 'idleTime': '0', 'arrivedOn': '27', 'travelTime': '2', 'requestStage': '3'}, {'start': '2-3', 'end': '2-3-5', 'companyName': 'Company00', 'vehicleName': 'Company0-Vehicle6', 'vehicleCapacity': '120', 'vehicleFilledUpCargo': '32', 'cargoOccupancy': '0', 'loadedOn': '69', 'holdingTime': '58', 'dispatchedOn': '69', 'idleTime': '0', 'arrivedOn': '70', 'travelTime': '1', 'requestStage': '4'}], 'price': '10089.333333333334', 'startedOn': '11', 'finishedOn': '70', 'requestTime': '59', 'requestStage': '5'}\n"
     ]
    }
   ],
   "source": [
    "print(js[0])"
   ]
  },
  {
   "cell_type": "code",
   "execution_count": null,
   "id": "2d95d0ca",
   "metadata": {},
   "outputs": [],
   "source": []
  }
 ],
 "metadata": {
  "kernelspec": {
   "display_name": "Python 3 (ipykernel)",
   "language": "python",
   "name": "python3"
  },
  "language_info": {
   "codemirror_mode": {
    "name": "ipython",
    "version": 3
   },
   "file_extension": ".py",
   "mimetype": "text/x-python",
   "name": "python",
   "nbconvert_exporter": "python",
   "pygments_lexer": "ipython3",
   "version": "3.10.3"
  }
 },
 "nbformat": 4,
 "nbformat_minor": 5
}
